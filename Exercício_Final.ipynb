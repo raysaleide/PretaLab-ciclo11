{
  "nbformat": 4,
  "nbformat_minor": 0,
  "metadata": {
    "colab": {
      "provenance": [],
      "include_colab_link": true
    },
    "kernelspec": {
      "name": "python3",
      "display_name": "Python 3"
    },
    "language_info": {
      "name": "python"
    }
  },
  "cells": [
    {
      "cell_type": "markdown",
      "metadata": {
        "id": "view-in-github",
        "colab_type": "text"
      },
      "source": [
        "<a href=\"https://colab.research.google.com/github/raysaleide/PretaLab-ciclo11/blob/main/Exerc%C3%ADcio_Final.ipynb\" target=\"_parent\"><img src=\"https://colab.research.google.com/assets/colab-badge.svg\" alt=\"Open In Colab\"/></a>"
      ]
    },
    {
      "cell_type": "markdown",
      "source": [
        "# Contagem de Medalhas\n",
        "\n",
        "Crie um programa que receba o número de medalhas de ouro, prata e bronze de um país nas Olimpíadas e calcule o total de medalhas.\n",
        "Quando escrever 'sair', o programa deverá encerrar e mostrar na tela o ranking de medalhas no formato:"
      ],
      "metadata": {
        "id": "RQN1e5FZY6SZ"
      }
    },
    {
      "cell_type": "code",
      "source": [
        "#Ranking de medalhas:\n",
        "#Brasil: 7 medalhas\n",
        "#França: 6 medalhas\n",
        "#Argentina: 3 medalhas"
      ],
      "metadata": {
        "id": "gCq_KLHzZSzb"
      },
      "execution_count": null,
      "outputs": []
    },
    {
      "cell_type": "code",
      "execution_count": 5,
      "metadata": {
        "id": "AJJhjxiPTd5s",
        "colab": {
          "base_uri": "https://localhost:8080/"
        },
        "outputId": "deabb2d3-aff5-4715-8733-fd0afe35b092"
      },
      "outputs": [
        {
          "output_type": "stream",
          "name": "stdout",
          "text": [
            "Digite o nome do país para contabilizar as medalhas (ou 'sair' para encerrar): Brasil\n",
            "Qual foi o número de medalhas de ouro para Brasil: 15\n",
            "Qual foi o número de medalhas de prata para Brasil: 12\n",
            "Qual foi o número de medalhas de bronze para Brasil: 20\n",
            "Digite o nome do país para contabilizar as medalhas (ou 'sair' para encerrar): Portugal\n",
            "Qual foi o número de medalhas de ouro para Portugal: 5\n",
            "Qual foi o número de medalhas de prata para Portugal: 3\n",
            "Qual foi o número de medalhas de bronze para Portugal: 1\n",
            "Digite o nome do país para contabilizar as medalhas (ou 'sair' para encerrar): França\n",
            "Qual foi o número de medalhas de ouro para França: 6\n",
            "Qual foi o número de medalhas de prata para França: 11\n",
            "Qual foi o número de medalhas de bronze para França: 3\n",
            "Digite o nome do país para contabilizar as medalhas (ou 'sair' para encerrar): Estados Unidos\n",
            "Qual foi o número de medalhas de ouro para Estados Unidos: 9\n",
            "Qual foi o número de medalhas de prata para Estados Unidos: 6\n",
            "Qual foi o número de medalhas de bronze para Estados Unidos: 8\n",
            "Digite o nome do país para contabilizar as medalhas (ou 'sair' para encerrar): sair\n",
            "\n",
            "Ranking de medalhas:\n",
            "Brasil: 47 medalhas\n",
            "Estados Unidos: 23 medalhas\n",
            "França: 20 medalhas\n",
            "Portugal: 9 medalhas\n"
          ]
        }
      ],
      "source": [
        "# Resposta aqui\n",
        "\n",
        "#função para calcular as medalhas\n",
        "def calcular_total_medalhas(ouro, prata, bronze):\n",
        "    return ouro + prata + bronze\n",
        "\n",
        "#criação de um dicinário para armazenar informação de cada país\n",
        "ranking_medalhas = {}\n",
        "\n",
        "#loop para continuar solicitando informações até o usuário digitar sair\n",
        "while True:\n",
        "    pais = input(\"Digite o nome do país para contabilizar as medalhas (ou 'sair' para encerrar): \")\n",
        "\n",
        "    if pais.lower() == 'sair':\n",
        "        break\n",
        "\n",
        "    ouro = int(input(f\"Qual foi o número de medalhas de ouro para {pais}: \"))\n",
        "    prata = int(input(f\"Qual foi o número de medalhas de prata para {pais}: \"))\n",
        "    bronze = int(input(f\"Qual foi o número de medalhas de bronze para {pais}: \"))\n",
        "\n",
        "    #chama a função para calcular o total de medalhas e guarda no dicionário\n",
        "    total_medalhas = calcular_total_medalhas(ouro, prata, bronze)\n",
        "    ranking_medalhas[pais] = total_medalhas\n",
        "\n",
        "print(\"\\nRanking de medalhas:\")\n",
        "\n",
        "#sorted foi usado para ordenar de acordo com o total de medalhas de cada pais (item[1])\n",
        "for pais, total in sorted(ranking_medalhas.items(), key=lambda item: item[1], reverse=True):\n",
        "    print(f\"{pais}: {total} medalhas\")"
      ]
    }
  ]
}